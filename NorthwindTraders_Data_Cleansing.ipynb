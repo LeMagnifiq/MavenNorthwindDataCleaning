{
  "nbformat": 4,
  "nbformat_minor": 0,
  "metadata": {
    "colab": {
      "provenance": [],
      "mount_file_id": "1Pg2A8Gg1RhFy2uT4rUl3B6QV7uhl7iX-",
      "authorship_tag": "ABX9TyOLgcfI0QYfikf79QheAqIW",
      "include_colab_link": true
    },
    "kernelspec": {
      "name": "python3",
      "display_name": "Python 3"
    },
    "language_info": {
      "name": "python"
    }
  },
  "cells": [
    {
      "cell_type": "markdown",
      "metadata": {
        "id": "view-in-github",
        "colab_type": "text"
      },
      "source": [
        "<a href=\"https://colab.research.google.com/github/LeMagnifiq/MavenNorthwindDataCleaning/blob/main/NorthwindTraders_Data_Cleansing.ipynb\" target=\"_parent\"><img src=\"https://colab.research.google.com/assets/colab-badge.svg\" alt=\"Open In Colab\"/></a>"
      ]
    },
    {
      "cell_type": "code",
      "source": [
        "#Libraries\n",
        "import pandas as pd"
      ],
      "metadata": {
        "id": "s80gWY9VuP5S"
      },
      "execution_count": null,
      "outputs": []
    },
    {
      "cell_type": "code",
      "execution_count": null,
      "metadata": {
        "id": "RiA9NVq4uKIt"
      },
      "outputs": [],
      "source": [
        "#Datasets\n",
        "orders = pd.read_csv('/content/drive/MyDrive/Northwind Challenge/orders.csv')\n",
        "order_details = pd.read_csv('/content/drive/MyDrive/Northwind Challenge/order_details.csv')\n",
        "customers = pd.read_csv('/content/drive/MyDrive/Northwind Challenge/customers.csv', encoding='ISO-8859-1')\n",
        "products = pd.read_csv('/content/drive/MyDrive/Northwind Challenge/products.csv', encoding='ISO-8859-1')\n",
        "categories = pd.read_csv('/content/drive/MyDrive/Northwind Challenge/categories.csv', encoding='ISO-8859-1')\n",
        "employees = pd.read_csv('/content/drive/MyDrive/Northwind Challenge/employees.csv', encoding='ISO-8859-1')\n",
        "shippers = pd.read_csv('/content/drive/MyDrive/Northwind Challenge/shippers.csv', encoding='ISO-8859-1')\n"
      ]
    },
    {
      "cell_type": "code",
      "source": [
        "# Merge the orders table with the order_details table\n",
        "data = pd.merge(orders, order_details, on='orderID')\n",
        "\n",
        "# Merge the result with the customers, products, employees, and shippers tables\n",
        "data = pd.merge(data, customers, on='customerID')\n",
        "data = pd.merge(data, products, on='productID')\n",
        "data = pd.merge(data, employees, on='employeeID')\n",
        "data = pd.merge(data, shippers, on='shipperID')\n",
        "\n",
        "# Merge with the categories table last since it connects to products\n",
        "data = pd.merge(data, categories, left_on='categoryID', right_on='categoryID')\n"
      ],
      "metadata": {
        "id": "cbnDhQaIwG4w"
      },
      "execution_count": null,
      "outputs": []
    },
    {
      "cell_type": "code",
      "source": [
        "# Checking the data for missing values\n",
        "print(data.isnull().sum())"
      ],
      "metadata": {
        "colab": {
          "base_uri": "https://localhost:8080/"
        },
        "id": "YCQ23b_FwVYy",
        "outputId": "b06183d9-d365-49f8-c416-e9aea0c71a38"
      },
      "execution_count": null,
      "outputs": [
        {
          "output_type": "stream",
          "name": "stdout",
          "text": [
            "orderID              0\n",
            "customerID           0\n",
            "employeeID           0\n",
            "orderDate            0\n",
            "requiredDate         0\n",
            "shippedDate         73\n",
            "shipperID            0\n",
            "freight              0\n",
            "productID            0\n",
            "unitPrice_x          0\n",
            "quantity             0\n",
            "discount             0\n",
            "companyName_x        0\n",
            "contactName          0\n",
            "contactTitle         0\n",
            "city_x               0\n",
            "country_x            0\n",
            "productName          0\n",
            "quantityPerUnit      0\n",
            "unitPrice_y          0\n",
            "discontinued         0\n",
            "categoryID           0\n",
            "employeeName         0\n",
            "title                0\n",
            "city_y               0\n",
            "country_y            0\n",
            "reportsTo          241\n",
            "companyName_y        0\n",
            "categoryName         0\n",
            "description          0\n",
            "dtype: int64\n"
          ]
        }
      ]
    },
    {
      "cell_type": "code",
      "source": [
        "# Fill NaN values in 'shippedDate' with 'requiredDate'\n",
        "data['shippedDate'] = data['shippedDate'].fillna(data['requiredDate'])\n",
        "\n",
        "# Fill NaN values in 'reportsTo' with 0\n",
        "data['reportsTo'] = data['reportsTo'].fillna(0)\n",
        "print(data.isnull().sum())"
      ],
      "metadata": {
        "colab": {
          "base_uri": "https://localhost:8080/"
        },
        "id": "lAlYkHkYwwG-",
        "outputId": "52ab3a29-e9ac-4880-ea57-ba2436822bbd"
      },
      "execution_count": null,
      "outputs": [
        {
          "output_type": "stream",
          "name": "stdout",
          "text": [
            "orderID            0\n",
            "customerID         0\n",
            "employeeID         0\n",
            "orderDate          0\n",
            "requiredDate       0\n",
            "shippedDate        0\n",
            "shipperID          0\n",
            "freight            0\n",
            "productID          0\n",
            "unitPrice_x        0\n",
            "quantity           0\n",
            "discount           0\n",
            "companyName_x      0\n",
            "contactName        0\n",
            "contactTitle       0\n",
            "city_x             0\n",
            "country_x          0\n",
            "productName        0\n",
            "quantityPerUnit    0\n",
            "unitPrice_y        0\n",
            "discontinued       0\n",
            "categoryID         0\n",
            "employeeName       0\n",
            "title              0\n",
            "city_y             0\n",
            "country_y          0\n",
            "reportsTo          0\n",
            "companyName_y      0\n",
            "categoryName       0\n",
            "description        0\n",
            "dtype: int64\n"
          ]
        }
      ]
    },
    {
      "cell_type": "code",
      "source": [
        "# Check for duplicates\n",
        "print(data.duplicated().sum())"
      ],
      "metadata": {
        "colab": {
          "base_uri": "https://localhost:8080/"
        },
        "id": "0CNIx14-wzmU",
        "outputId": "575e8d25-4ea2-42eb-f6ac-b5b16d269e8e"
      },
      "execution_count": null,
      "outputs": [
        {
          "output_type": "stream",
          "name": "stdout",
          "text": [
            "0\n"
          ]
        }
      ]
    },
    {
      "cell_type": "code",
      "source": [
        "# Ensure date fields are in the correct datetime format\n",
        "data['orderDate'] = pd.to_datetime(data['orderDate'])\n",
        "data['requiredDate'] = pd.to_datetime(data['requiredDate'])\n",
        "data['shippedDate'] = pd.to_datetime(data['shippedDate'])\n"
      ],
      "metadata": {
        "id": "HAkRoNgOxD7u"
      },
      "execution_count": null,
      "outputs": []
    },
    {
      "cell_type": "code",
      "source": [
        "print(data.columns)"
      ],
      "metadata": {
        "colab": {
          "base_uri": "https://localhost:8080/"
        },
        "id": "kAGqwPzF0LKQ",
        "outputId": "2a90f3f3-21ac-4d69-d9a4-f3dcc887a2b2"
      },
      "execution_count": null,
      "outputs": [
        {
          "output_type": "stream",
          "name": "stdout",
          "text": [
            "Index(['orderID', 'customerID', 'employeeID', 'orderDate', 'requiredDate',\n",
            "       'shippedDate', 'shipperID', 'freight', 'productID', 'unitPrice_x',\n",
            "       'quantity', 'discount', 'companyName_x', 'contactName', 'contactTitle',\n",
            "       'city_x', 'country_x', 'productName', 'quantityPerUnit', 'unitPrice_y',\n",
            "       'discontinued', 'categoryID', 'employeeName', 'title', 'city_y',\n",
            "       'country_y', 'reportsTo', 'companyName_y', 'categoryName',\n",
            "       'description'],\n",
            "      dtype='object')\n"
          ]
        }
      ]
    },
    {
      "cell_type": "code",
      "source": [
        "# Save DataFrame to a new CSV file in the specified location\n",
        "data.to_csv('/content/drive/MyDrive/Northwind Challenge/northwind_clean_data.csv', index=False)\n"
      ],
      "metadata": {
        "id": "qAJA5cL3xVM8"
      },
      "execution_count": null,
      "outputs": []
    }
  ]
}